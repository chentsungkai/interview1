{
 "cells": [
  {
   "cell_type": "code",
   "execution_count": 267,
   "metadata": {
    "scrolled": true
   },
   "outputs": [
    {
     "name": "stdout",
     "output_type": "stream",
     "text": [
      "Maximum guest at 2 am is 3\n"
     ]
    }
   ],
   "source": [
    "#test log [hour,minutes]\n",
    "guest = [5,4,9,12,7,16,4,2,5,4,18,6,3,4,1,8,2,2]\n",
    "search = 2\n",
    "count = -1\n",
    "maximum = 0\n",
    "maxi1=0\n",
    "\n",
    "#1 hour period\n",
    "def time(guest,search,maximum):\n",
    "    if guest >= 0 and guest <= 24:\n",
    "        if guest == search:\n",
    "            global maxi1\n",
    "            maximum = maxi1\n",
    "            maxi1 = maxi1 + 1\n",
    "    else:\n",
    "        print(\"is not a valid time\")\n",
    "for li in guest:\n",
    "    count = count + 1\n",
    "    if count < len(guest):\n",
    "        time(guest[count],search,maximum)\n",
    "    else:\n",
    "        break\n",
    "\n",
    "if search >= 12 and search <= 24 :\n",
    "    print(\"Maximum guest at\",search,\"pm\",\"is\",maxi1)\n",
    "else:\n",
    "    print(\"Maximum guest at\",search,\"am\",\"is\",maxi1)"
   ]
  },
  {
   "cell_type": "code",
   "execution_count": 209,
   "metadata": {},
   "outputs": [
    {
     "name": "stdout",
     "output_type": "stream",
     "text": [
      "Once deleted, variables cannot be recovered. Proceed (y/[n])? y\n"
     ]
    }
   ],
   "source": [
    "%reset"
   ]
  }
 ],
 "metadata": {
  "kernelspec": {
   "display_name": "Python 3",
   "language": "python",
   "name": "python3"
  },
  "language_info": {
   "codemirror_mode": {
    "name": "ipython",
    "version": 3
   },
   "file_extension": ".py",
   "mimetype": "text/x-python",
   "name": "python",
   "nbconvert_exporter": "python",
   "pygments_lexer": "ipython3",
   "version": "3.8.3"
  }
 },
 "nbformat": 4,
 "nbformat_minor": 4
}
